{
 "cells": [
  {
   "cell_type": "code",
   "execution_count": 6,
   "metadata": {},
   "outputs": [],
   "source": [
    "from anytree import Node, RenderTree, SymlinkNode\n",
    "root = Node(\"root\")\n",
    "s0 = Node(\"sub0\", parent=root)\n",
    "s0b = Node(\"sub0B\", parent=s0, foo=4, bar=109)\n",
    "s0a = Node(\"sub0A\", parent=s0)\n",
    "s1 = Node(\"sub1\", parent=root)\n",
    "s1a = Node(\"sub1A\", parent=s1)\n",
    "s1b = Node(\"sub1B\", parent=s1, bar=8)\n",
    "s1c = Node(\"sub1C\", parent=s1)\n",
    "s1ca = Node(\"sub1Ca\", parent=s1c)"
   ]
  },
  {
   "cell_type": "code",
   "execution_count": 7,
   "metadata": {},
   "outputs": [
    {
     "name": "stdout",
     "output_type": "stream",
     "text": [
      "Node('/root')\n",
      "├── Node('/root/sub0')\n",
      "│   ├── Node('/root/sub0/sub0B', bar=109, foo=4)\n",
      "│   └── Node('/root/sub0/sub0A')\n",
      "└── Node('/root/sub1')\n",
      "    ├── Node('/root/sub1/sub1A')\n",
      "    ├── Node('/root/sub1/sub1B', bar=8)\n",
      "    └── Node('/root/sub1/sub1C')\n",
      "        └── Node('/root/sub1/sub1C/sub1Ca')\n"
     ]
    }
   ],
   "source": [
    "print(RenderTree(root))"
   ]
  },
  {
   "cell_type": "code",
   "execution_count": 8,
   "metadata": {},
   "outputs": [],
   "source": [
    "sym = SymlinkNode(s1c, parent=s0a)"
   ]
  },
  {
   "cell_type": "code",
   "execution_count": 9,
   "metadata": {},
   "outputs": [
    {
     "name": "stdout",
     "output_type": "stream",
     "text": [
      "Node('/root')\n",
      "├── Node('/root/sub0')\n",
      "│   ├── Node('/root/sub0/sub0B', bar=109, foo=4)\n",
      "│   └── Node('/root/sub0/sub0A')\n",
      "│       └── SymlinkNode(Node('/root/sub1/sub1C'))\n",
      "└── Node('/root/sub1')\n",
      "    ├── Node('/root/sub1/sub1A')\n",
      "    ├── Node('/root/sub1/sub1B', bar=8)\n",
      "    └── Node('/root/sub1/sub1C')\n",
      "        └── Node('/root/sub1/sub1C/sub1Ca')\n"
     ]
    }
   ],
   "source": [
    "print(RenderTree(root))"
   ]
  },
  {
   "cell_type": "code",
   "execution_count": 10,
   "metadata": {},
   "outputs": [],
   "source": [
    "import jsonpickle\n",
    "import json\n",
    "\n",
    "jsonpkl = jsonpickle.encode(root)\n"
   ]
  },
  {
   "cell_type": "code",
   "execution_count": 11,
   "metadata": {},
   "outputs": [
    {
     "name": "stdout",
     "output_type": "stream",
     "text": [
      "\"{\\\"py/object\\\": \\\"anytree.node.node.Node\\\", \\\"name\\\": \\\"root\\\", \\\"_NodeMixin__children\\\": [{\\\"py/object\\\": \\\"anytree.node.node.Node\\\", \\\"name\\\": \\\"sub0\\\", \\\"_NodeMixin__parent\\\": {\\\"py/id\\\": 0}, \\\"_NodeMixin__children\\\": [{\\\"py/object\\\": \\\"anytree.node.node.Node\\\", \\\"foo\\\": 4, \\\"bar\\\": 109, \\\"name\\\": \\\"sub0B\\\", \\\"_NodeMixin__parent\\\": {\\\"py/id\\\": 2}, \\\"_NodeMixin__children\\\": []}, {\\\"py/object\\\": \\\"anytree.node.node.Node\\\", \\\"name\\\": \\\"sub0A\\\", \\\"_NodeMixin__parent\\\": {\\\"py/id\\\": 2}, \\\"_NodeMixin__children\\\": [{\\\"py/object\\\": \\\"anytree.node.symlinknode.SymlinkNode\\\", \\\"target\\\": {\\\"py/object\\\": \\\"anytree.node.node.Node\\\", \\\"name\\\": \\\"sub1C\\\", \\\"_NodeMixin__parent\\\": {\\\"py/object\\\": \\\"anytree.node.node.Node\\\", \\\"name\\\": \\\"sub1\\\", \\\"_NodeMixin__parent\\\": {\\\"py/id\\\": 0}, \\\"_NodeMixin__children\\\": [{\\\"py/object\\\": \\\"anytree.node.node.Node\\\", \\\"name\\\": \\\"sub1A\\\", \\\"_NodeMixin__parent\\\": {\\\"py/id\\\": 10}, \\\"_NodeMixin__children\\\": []}, {\\\"py/object\\\": \\\"anytree.node.node.Node\\\", \\\"bar\\\": 8, \\\"name\\\": \\\"sub1B\\\", \\\"_NodeMixin__parent\\\": {\\\"py/id\\\": 10}, \\\"_NodeMixin__children\\\": []}, {\\\"py/id\\\": 9}]}, \\\"_NodeMixin__children\\\": [{\\\"py/object\\\": \\\"anytree.node.node.Node\\\", \\\"name\\\": \\\"sub1Ca\\\", \\\"_NodeMixin__parent\\\": {\\\"py/id\\\": 9}, \\\"_NodeMixin__children\\\": []}]}, \\\"_NodeMixin__parent\\\": {\\\"py/id\\\": 6}, \\\"_NodeMixin__children\\\": []}]}]}, {\\\"py/id\\\": 10}]}\"\n"
     ]
    }
   ],
   "source": [
    "jd = json.dumps(jsonpkl, indent=2)\n",
    "print(jd)"
   ]
  },
  {
   "cell_type": "code",
   "execution_count": 12,
   "metadata": {},
   "outputs": [],
   "source": [
    "with open('anytree.pkl', 'w', encoding='utf-8') as f:\n",
    "    json.dump(jsonpkl, f)"
   ]
  },
  {
   "cell_type": "code",
   "execution_count": 13,
   "metadata": {},
   "outputs": [],
   "source": [
    "import json\n",
    "with open('anytree.pkl', 'r', encoding='utf-8') as f:\n",
    "    jsonpkl = json.load(f)"
   ]
  },
  {
   "cell_type": "code",
   "execution_count": 14,
   "metadata": {},
   "outputs": [
    {
     "name": "stdout",
     "output_type": "stream",
     "text": [
      "Node('/root')\n",
      "├── Node('/root/sub0')\n",
      "│   ├── Node('/root/sub0/sub0B', bar=109, foo=4)\n",
      "│   └── Node('/root/sub0/sub0A')\n",
      "│       └── SymlinkNode(Node('/root/sub1/sub1C'))\n",
      "└── Node('/root/sub1')\n",
      "    ├── Node('/root/sub1/sub1A')\n",
      "    ├── Node('/root/sub1/sub1B', bar=8)\n",
      "    └── Node('/root/sub1/sub1C')\n",
      "        └── Node('/root/sub1/sub1C/sub1Ca')\n"
     ]
    }
   ],
   "source": [
    "import jsonpickle\n",
    "loadpkl = jsonpickle.decode(jsonpkl)\n",
    "print(RenderTree(loadpkl))"
   ]
  },
  {
   "cell_type": "code",
   "execution_count": 19,
   "metadata": {},
   "outputs": [
    {
     "name": "stdout",
     "output_type": "stream",
     "text": [
      "root sub1 sub1C sub1Ca \n",
      "root sub1 sub1C sub1B \n",
      "root sub1 sub1C sub1A \n",
      "root sub1 sub1C sub0 sub0A sub1C sub1Ca \n",
      "root sub1 sub1C sub0 sub0A sub1C sub0B \n"
     ]
    }
   ],
   "source": [
    "from collections import deque\n",
    "\n",
    "def print_deq(deq):\n",
    "    for d in deq:\n",
    "        print(d.name, end=' ')\n",
    "    print('')\n",
    "\n",
    "deq_trv = deque()\n",
    "deq_prt = deque()\n",
    "\n",
    "deq_trv.append(root)\n",
    "\n",
    "while(deq_trv):\n",
    "    n = deq_trv.pop()\n",
    "    # print(n.name)\n",
    "    if type(n).__name__ == 'SymlinkNode':\n",
    "        deq_trv.append(n.target)\n",
    "        continue\n",
    "    deq_prt.append(n)\n",
    "    if n.children:\n",
    "        deq_trv.extend(n.children)\n",
    "    else:\n",
    "        print_deq(deq_prt)\n",
    "        deq_prt.pop()"
   ]
  },
  {
   "cell_type": "code",
   "execution_count": 14,
   "metadata": {},
   "outputs": [
    {
     "name": "stdout",
     "output_type": "stream",
     "text": [
      "{'children': [{'children': [{'bar': 109, 'foo': 4, 'name': 'sub0B'},\n",
      "                            {'children': [{'target': Node('/root/sub1/sub1C')}],\n",
      "                             'name': 'sub0A'}],\n",
      "               'name': 'sub0'},\n",
      "              {'children': [{'name': 'sub1A'},\n",
      "                            {'bar': 8, 'name': 'sub1B'},\n",
      "                            {'children': [{'name': 'sub1Ca'}],\n",
      "                             'name': 'sub1C'}],\n",
      "               'name': 'sub1'}],\n",
      " 'name': 'root'}\n"
     ]
    }
   ],
   "source": [
    "from anytree.exporter import DictExporter\n",
    "from pprint import pprint\n",
    "exporter = DictExporter()\n",
    "\n",
    "dict_exp = exporter.export(root)\n",
    "pprint(dict_exp)"
   ]
  },
  {
   "cell_type": "code",
   "execution_count": 16,
   "metadata": {},
   "outputs": [
    {
     "data": {
      "text/plain": [
       "{'name': 'root',\n",
       " 'children': [{'name': 'sub0',\n",
       "   'children': [{'foo': 4, 'bar': 109, 'name': 'sub0B'},\n",
       "    {'name': 'sub0A', 'children': [{'target': Node('/root/sub1/sub1C')}]}]},\n",
       "  {'name': 'sub1',\n",
       "   'children': [{'name': 'sub1A'},\n",
       "    {'bar': 8, 'name': 'sub1B'},\n",
       "    {'name': 'sub1C', 'children': [{'name': 'sub1Ca'}]}]}]}"
      ]
     },
     "execution_count": 16,
     "metadata": {},
     "output_type": "execute_result"
    }
   ],
   "source": [
    "dict_exp"
   ]
  },
  {
   "cell_type": "code",
   "execution_count": 17,
   "metadata": {},
   "outputs": [
    {
     "name": "stdout",
     "output_type": "stream",
     "text": [
      "AnyNode(name='root')\n",
      "├── AnyNode(name='sub0')\n",
      "│   ├── AnyNode(bar=109, foo=4, name='sub0B')\n",
      "│   └── AnyNode(name='sub0A')\n",
      "│       └── AnyNode(target=Node('/root/sub1/sub1C'))\n",
      "└── AnyNode(name='sub1')\n",
      "    ├── AnyNode(name='sub1A')\n",
      "    ├── AnyNode(bar=8, name='sub1B')\n",
      "    └── AnyNode(name='sub1C')\n",
      "        └── AnyNode(name='sub1Ca')\n"
     ]
    }
   ],
   "source": [
    "from anytree.importer import DictImporter\n",
    "from anytree import RenderTree\n",
    "\n",
    "importer = DictImporter()\n",
    "root2 = importer.import_(dict_exp)\n",
    "print(RenderTree(root2))\n"
   ]
  },
  {
   "cell_type": "code",
   "execution_count": null,
   "metadata": {},
   "outputs": [],
   "source": []
  }
 ],
 "metadata": {
  "kernelspec": {
   "display_name": "Python 3",
   "language": "python",
   "name": "python3"
  },
  "language_info": {
   "codemirror_mode": {
    "name": "ipython",
    "version": 3
   },
   "file_extension": ".py",
   "mimetype": "text/x-python",
   "name": "python",
   "nbconvert_exporter": "python",
   "pygments_lexer": "ipython3",
   "version": "3.11.3"
  }
 },
 "nbformat": 4,
 "nbformat_minor": 2
}
