{
 "cells": [
  {
   "cell_type": "code",
   "execution_count": 1,
   "metadata": {},
   "outputs": [
    {
     "name": "stdout",
     "output_type": "stream",
     "text": [
      "Light is on\n"
     ]
    }
   ],
   "source": [
    "# https://python101.tistory.com/entry/%EB%94%94%EC%9E%90%EC%9D%B8-%ED%8C%A8%ED%84%B4-%EC%BB%A4%EB%A7%A8%EB%93%9C-%ED%8C%A8%ED%84%B4-Command-Pattern-python-%EC%98%88%EC%A0%9C-%EC%BD%94%EB%93%9C\n",
    "\n",
    "# 요청을 객체로 캡슐화하여 실행 가능한 작업으로 만듬\n",
    "\n",
    "from abc import ABC, abstractmethod\n",
    "\n",
    "# Command interface\n",
    "class Command(ABC):\n",
    "    @abstractmethod\n",
    "    def execute(self):\n",
    "        pass\n",
    "\n",
    "# ConcreteCommand class\n",
    "class LightOnCommand(Command):\n",
    "    def __init__(self, light):\n",
    "        self.light = light\n",
    "\n",
    "    def execute(self):\n",
    "        self.light.on()\n",
    "\n",
    "# Receiver class\n",
    "class Light:\n",
    "    def on(self):\n",
    "        print(\"Light is on\")\n",
    "\n",
    "# Invoker class\n",
    "class RemoteControl:\n",
    "    def __init__(self):\n",
    "        self.command = None\n",
    "\n",
    "    def set_command(self, command):\n",
    "        self.command = command\n",
    "\n",
    "    def press_button(self):\n",
    "        if self.command is not None:\n",
    "            self.command.execute()\n",
    "\n",
    "# Client code\n",
    "light = Light()\n",
    "light_on_command = LightOnCommand(light)\n",
    "remote = RemoteControl()\n",
    "remote.set_command(light_on_command)\n",
    "remote.press_button() # Light is on 출력"
   ]
  }
 ],
 "metadata": {
  "kernelspec": {
   "display_name": "Python 3",
   "language": "python",
   "name": "python3"
  },
  "language_info": {
   "codemirror_mode": {
    "name": "ipython",
    "version": 3
   },
   "file_extension": ".py",
   "mimetype": "text/x-python",
   "name": "python",
   "nbconvert_exporter": "python",
   "pygments_lexer": "ipython3",
   "version": "3.11.3"
  }
 },
 "nbformat": 4,
 "nbformat_minor": 2
}
