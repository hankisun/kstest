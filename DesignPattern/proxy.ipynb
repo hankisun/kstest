{
 "cells": [
  {
   "cell_type": "code",
   "execution_count": 1,
   "metadata": {},
   "outputs": [
    {
     "name": "stdout",
     "output_type": "stream",
     "text": [
      "Proxy의 pre_request() 메서드 호출\n",
      "RealSubject의 request() 메서드 호출\n",
      "Proxy의 post_request() 메서드 호출\n"
     ]
    }
   ],
   "source": [
    "# https://python101.tistory.com/entry/%EB%94%94%EC%9E%90%EC%9D%B8-%ED%8C%A8%ED%84%B4-%ED%94%84%EB%A1%9D%EC%8B%9C-%ED%8C%A8%ED%84%B4-Proxy-Pattern-python-%EC%98%88%EC%A0%9C-%EC%BD%94%EB%93%9C\n",
    "\n",
    "# 프록시 객체를 통해서만 실제 객체에 접근할 수 있으므로, 객체에 대한 접근을 제어할 수 있습니다.\n",
    "# 원본 객체의 메소드를 호출하기 전에 부가 기능(로깅, 인증, 캐싱 등)을 추가\n",
    "# 원본 객체를 수정하지 않고도 객체의 기능을 확장\n",
    "\n",
    "# 프록시 인터페이스\n",
    "class Subject:\n",
    "    def request(self):\n",
    "        pass\n",
    "\n",
    "# 실제 객체\n",
    "class RealSubject(Subject):\n",
    "    def request(self):\n",
    "        print(\"RealSubject의 request() 메서드 호출\")\n",
    "\n",
    "# 프록시 객체\n",
    "class Proxy(Subject):\n",
    "    def __init__(self):\n",
    "        self.real_subject = RealSubject()\n",
    "\n",
    "    def request(self):\n",
    "        self.pre_request()\n",
    "        self.real_subject.request()\n",
    "        self.post_request()\n",
    "\n",
    "    def pre_request(self):\n",
    "        print(\"Proxy의 pre_request() 메서드 호출\")\n",
    "\n",
    "    def post_request(self):\n",
    "        print(\"Proxy의 post_request() 메서드 호출\")\n",
    "\n",
    "# 클라이언트\n",
    "def main():\n",
    "    proxy = Proxy()\n",
    "    proxy.request()\n",
    "\n",
    "if __name__ == \"__main__\":\n",
    "    main()"
   ]
  },
  {
   "cell_type": "code",
   "execution_count": 4,
   "metadata": {},
   "outputs": [
    {
     "name": "stdout",
     "output_type": "stream",
     "text": [
      "load an image\n",
      "Draw Real Image\n",
      "load an image\n",
      "Draw Real Image\n",
      "load an image\n",
      "Draw Real Image\n"
     ]
    }
   ],
   "source": [
    "class Image:\n",
    "    def draw(self):\n",
    "        pass\n",
    "\n",
    "class RealImage(Image):\n",
    "    def draw(self):\n",
    "        print(\"Draw Real Image\")\n",
    "\n",
    "class ProxyImage(Image):\n",
    "    def __init__(self):\n",
    "        self.real_image = None\n",
    "    def draw(self):\n",
    "        if self.real_image is None:\n",
    "            print(\"load an image\")\n",
    "            self.real_image = RealImage()\n",
    "        self.real_image.draw()\n",
    "\n",
    "# img = ProxyImage()\n",
    "# img.draw()\n",
    "\n",
    "class ListUI:\n",
    "    def __init__(self, images: list):\n",
    "        self.images = images\n",
    "    def on_scroll(self, start ,end):\n",
    "        for i in range(start, end+1):\n",
    "            self.images[i].draw()\n",
    "\n",
    "images = list()\n",
    "for i in range(10):\n",
    "    images.append(ProxyImage())\n",
    "\n",
    "listUI = ListUI(images)\n",
    "listUI.on_scroll(2,4)"
   ]
  },
  {
   "cell_type": "code",
   "execution_count": 5,
   "metadata": {},
   "outputs": [
    {
     "name": "stdout",
     "output_type": "stream",
     "text": [
      "load an image\n",
      "Draw Real Image\n",
      "Draw Real Image\n",
      "Draw Real Image\n"
     ]
    }
   ],
   "source": [
    "listUI.on_scroll(1,3)"
   ]
  },
  {
   "cell_type": "code",
   "execution_count": 6,
   "metadata": {},
   "outputs": [
    {
     "name": "stdout",
     "output_type": "stream",
     "text": [
      "Draw Real Image\n",
      "load an image\n",
      "Draw Real Image\n",
      "load an image\n",
      "Draw Real Image\n",
      "load an image\n",
      "Draw Real Image\n"
     ]
    }
   ],
   "source": [
    "listUI.on_scroll(4,7)"
   ]
  },
  {
   "cell_type": "code",
   "execution_count": 7,
   "metadata": {},
   "outputs": [
    {
     "name": "stdout",
     "output_type": "stream",
     "text": [
      "Draw Real Image\n",
      "Draw Real Image\n",
      "Draw Real Image\n"
     ]
    }
   ],
   "source": [
    "listUI.on_scroll(2,4)"
   ]
  }
 ],
 "metadata": {
  "kernelspec": {
   "display_name": "Python 3",
   "language": "python",
   "name": "python3"
  },
  "language_info": {
   "codemirror_mode": {
    "name": "ipython",
    "version": 3
   },
   "file_extension": ".py",
   "mimetype": "text/x-python",
   "name": "python",
   "nbconvert_exporter": "python",
   "pygments_lexer": "ipython3",
   "version": "3.11.3"
  }
 },
 "nbformat": 4,
 "nbformat_minor": 2
}
