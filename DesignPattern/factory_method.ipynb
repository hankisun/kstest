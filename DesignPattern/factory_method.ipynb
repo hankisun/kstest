{
 "cells": [
  {
   "cell_type": "code",
   "execution_count": 1,
   "metadata": {},
   "outputs": [
    {
     "name": "stdout",
     "output_type": "stream",
     "text": [
      "10 + 5 = 15\n",
      "10 / 5 = 2.0\n"
     ]
    }
   ],
   "source": [
    "# https://python101.tistory.com/entry/%EB%94%94%EC%9E%90%EC%9D%B8-%ED%8C%A8%ED%84%B4-%ED%8C%A9%ED%86%A0%EB%A6%AC-%EB%A9%94%EC%84%9C%EB%93%9C-%ED%8C%A8%ED%84%B4-Factory-Method-Pattern-python-%EC%98%88%EC%A0%9C-%EC%BD%94%EB%93%9C#google_vignette\n",
    "\n",
    "# 객체 생성을 위한 팩토리 메서드를 제공하여, 서브 클래스에서 해당 메서드를 오버라이드하고 적절한 객체를 생성함\n",
    "# 클래스의 인스턴스 생성 로직을 별도의 클래스로 분리\n",
    "# 객체 생성 과정이 복잡하거나 다양한 조건에 따라 객체를 생성해야 할 때, 팩토리 메서드 패턴을 사용하면 객체 생성 과정을 캡슐화할 수 있음\n",
    "\n",
    "# 계산기 연산 처리 클래스\n",
    "class Operation:\n",
    "    def operate(self, x, y):\n",
    "        pass\n",
    "\n",
    "# 덧셈 연산 클래스\n",
    "class AddOperation(Operation):\n",
    "    def operate(self, x, y):\n",
    "        return x + y\n",
    "\n",
    "# 뺄셈 연산 클래스\n",
    "class SubtractOperation(Operation):\n",
    "    def operate(self, x, y):\n",
    "        return x - y\n",
    "\n",
    "# 곱셈 연산 클래스\n",
    "class MultiplyOperation(Operation):\n",
    "    def operate(self, x, y):\n",
    "        return x * y\n",
    "\n",
    "# 나눗셈 연산 클래스\n",
    "class DivideOperation(Operation):\n",
    "    def operate(self, x, y):\n",
    "        return x / y\n",
    "\n",
    "# 팩토리 메서드\n",
    "class OperationFactory:\n",
    "    @staticmethod\n",
    "    def create_operation(operator):\n",
    "        if operator == '+':\n",
    "            return AddOperation()\n",
    "        elif operator == '-':\n",
    "            return SubtractOperation()\n",
    "        elif operator == '*':\n",
    "            return MultiplyOperation()\n",
    "        elif operator == '/':\n",
    "            return DivideOperation()\n",
    "        else:\n",
    "            raise ValueError('Invalid operator')\n",
    "\n",
    "# 사용 예시\n",
    "if __name__ == '__main__':\n",
    "    x = 10\n",
    "    y = 5\n",
    "\n",
    "    # 덧셈 연산 객체 생성 및 처리\n",
    "    add_operation = OperationFactory.create_operation('+')\n",
    "    result = add_operation.operate(x, y)\n",
    "    print(f'{x} + {y} = {result}')\n",
    "\n",
    "    # 나눗셈 연산 객체 생성 및 처리\n",
    "    divide_operation = OperationFactory.create_operation('/')\n",
    "    result = divide_operation.operate(x, y)\n",
    "    print(f'{x} / {y} = {result}')"
   ]
  }
 ],
 "metadata": {
  "kernelspec": {
   "display_name": "Python 3",
   "language": "python",
   "name": "python3"
  },
  "language_info": {
   "codemirror_mode": {
    "name": "ipython",
    "version": 3
   },
   "file_extension": ".py",
   "mimetype": "text/x-python",
   "name": "python",
   "nbconvert_exporter": "python",
   "pygments_lexer": "ipython3",
   "version": "3.11.3"
  }
 },
 "nbformat": 4,
 "nbformat_minor": 2
}
