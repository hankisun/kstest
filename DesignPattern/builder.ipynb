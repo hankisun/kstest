{
 "cells": [
  {
   "cell_type": "code",
   "execution_count": 1,
   "metadata": {},
   "outputs": [],
   "source": [
    "# https://python101.tistory.com/entry/%EB%94%94%EC%9E%90%EC%9D%B8-%ED%8C%A8%ED%84%B4-%EB%B9%8C%EB%8D%94-%ED%8C%A8%ED%84%B4-Builder-Pattern-python-%EC%98%88%EC%A0%9C-%EC%BD%94%EB%93%9C\n",
    "\n",
    "# 객체를 생성하는 과정을 단계별로 나누어 처리하며, 이 단계들을 조합하여 객체를 생성\n",
    "# 객체 생성 과정이 복잡한 경우, 객체 생성 과정을 유연하게 처리\n",
    "# 객체 생성 시 유효성 검사를 수행\n",
    "\n",
    "class User:\n",
    "    def __init__(self):\n",
    "        self.username = None\n",
    "        self.password = None\n",
    "        self.email = None\n",
    "        self.first_name = None\n",
    "        self.last_name = None\n",
    "        \n",
    "    def __str__(self):\n",
    "        return f\"username: {self.username}, password: {self.password}, email: {self.email}, first_name: {self.first_name}, last_name: {self.last_name}\""
   ]
  },
  {
   "cell_type": "code",
   "execution_count": 2,
   "metadata": {},
   "outputs": [],
   "source": [
    "class UserBuilder:\n",
    "    def __init__(self):\n",
    "        self.user = User()\n",
    "    def set_username(self, username):\n",
    "        self.user.username = username\n",
    "        return self\n",
    "    def set_password(self, password):\n",
    "        self.user.password = password\n",
    "        return self\n",
    "    def set_email(self, email):\n",
    "        self.user.email = email\n",
    "        return self\n",
    "    def set_first_name(self, first_name):\n",
    "        self.user.first_name = first_name\n",
    "        return self\n",
    "    def set_last_name(self, last_name):\n",
    "        self.user.last_name = last_name\n",
    "        return self\n",
    "    def build(self):\n",
    "        return self.user\n"
   ]
  },
  {
   "cell_type": "code",
   "execution_count": 3,
   "metadata": {},
   "outputs": [
    {
     "name": "stdout",
     "output_type": "stream",
     "text": [
      "username: john, password: 1234, email: john@example.com, first_name: John, last_name: Doe\n"
     ]
    }
   ],
   "source": [
    "user = UserBuilder().set_username('john')\\\n",
    "        .set_password('1234')\\\n",
    "        .set_email('john@example.com')\\\n",
    "        .set_first_name('John')\\\n",
    "        .set_last_name('Doe')\\\n",
    "        .build()\n",
    "\n",
    "print(user)"
   ]
  },
  {
   "cell_type": "code",
   "execution_count": 4,
   "metadata": {},
   "outputs": [
    {
     "data": {
      "text/plain": [
       "<__main__.User at 0x28f2bf55b10>"
      ]
     },
     "execution_count": 4,
     "metadata": {},
     "output_type": "execute_result"
    }
   ],
   "source": [
    "user"
   ]
  }
 ],
 "metadata": {
  "kernelspec": {
   "display_name": "Python 3",
   "language": "python",
   "name": "python3"
  },
  "language_info": {
   "codemirror_mode": {
    "name": "ipython",
    "version": 3
   },
   "file_extension": ".py",
   "mimetype": "text/x-python",
   "name": "python",
   "nbconvert_exporter": "python",
   "pygments_lexer": "ipython3",
   "version": "3.11.3"
  }
 },
 "nbformat": 4,
 "nbformat_minor": 2
}
