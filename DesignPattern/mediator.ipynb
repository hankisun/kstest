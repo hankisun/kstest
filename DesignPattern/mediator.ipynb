{
 "cells": [
  {
   "cell_type": "code",
   "execution_count": 1,
   "metadata": {},
   "outputs": [
    {
     "name": "stdout",
     "output_type": "stream",
     "text": [
      "Colleague2 gets message: Hello from Colleague1\n",
      "Colleague1 gets message: Hello from Colleague2\n"
     ]
    }
   ],
   "source": [
    "# 객체들 간의 상호작용을 중재하는 객체를 도입하여 객체들 간의 결합도를 줄이고 유지보수성을 높이는 디자인 패턴\n",
    "\n",
    "class Mediator:\n",
    "    def __init__(self):\n",
    "        self.colleague_1 = Colleague1(self)\n",
    "        self.colleague_2 = Colleague2(self)\n",
    "\n",
    "    def send_message(self, message, colleague):\n",
    "        if colleague == self.colleague_1:\n",
    "            self.colleague_2.notify(message)\n",
    "        else:\n",
    "            self.colleague_1.notify(message)\n",
    "\n",
    "\n",
    "class Colleague1:\n",
    "    def __init__(self, mediator):\n",
    "        self.mediator = mediator\n",
    "\n",
    "    def send_message(self, message):\n",
    "        self.mediator.send_message(message, self)\n",
    "\n",
    "    def notify(self, message):\n",
    "        print(\"Colleague1 gets message:\", message)\n",
    "\n",
    "\n",
    "class Colleague2:\n",
    "    def __init__(self, mediator):\n",
    "        self.mediator = mediator\n",
    "\n",
    "    def send_message(self, message):\n",
    "        self.mediator.send_message(message, self)\n",
    "\n",
    "    def notify(self, message):\n",
    "        print(\"Colleague2 gets message:\", message)\n",
    "\n",
    "\n",
    "mediator = Mediator()\n",
    "mediator.colleague_1.send_message(\"Hello from Colleague1\")\n",
    "mediator.colleague_2.send_message(\"Hello from Colleague2\")"
   ]
  },
  {
   "cell_type": "code",
   "execution_count": 3,
   "metadata": {},
   "outputs": [
    {
     "name": "stdout",
     "output_type": "stream",
     "text": [
      "Video Player play 3\n",
      "Title set 3\n"
     ]
    }
   ],
   "source": [
    "class VideoPlayer:\n",
    "    def play(self, idx):\n",
    "        print(f\"Video Player play {idx}\")\n",
    "\n",
    "class TitleUI:\n",
    "    def set_title(self, idx):\n",
    "        print(f\"Title set {idx}\")\n",
    "\n",
    "class VideoListUI:\n",
    "    def __init__(self, video_mediator):\n",
    "        self.video_mediator = video_mediator\n",
    "    def on_select_item(self, idx):\n",
    "        self.video_mediator.select_video(idx)\n",
    "\n",
    "class VideoMediator:\n",
    "    def __init__(self):\n",
    "        self.video_player = VideoPlayer()\n",
    "        self.title_ui = TitleUI()\n",
    "        self.video_list_ui = VideoListUI(self)\n",
    "    def select_video(self, idx):\n",
    "        self.video_player.play(idx)\n",
    "        self.title_ui.set_title(idx)\n",
    "\n",
    "video_mediator = VideoMediator()\n",
    "video_mediator.video_list_ui.on_select_item(3)"
   ]
  },
  {
   "cell_type": "code",
   "execution_count": null,
   "metadata": {},
   "outputs": [],
   "source": []
  }
 ],
 "metadata": {
  "kernelspec": {
   "display_name": "Python 3",
   "language": "python",
   "name": "python3"
  },
  "language_info": {
   "codemirror_mode": {
    "name": "ipython",
    "version": 3
   },
   "file_extension": ".py",
   "mimetype": "text/x-python",
   "name": "python",
   "nbconvert_exporter": "python",
   "pygments_lexer": "ipython3",
   "version": "3.11.3"
  }
 },
 "nbformat": 4,
 "nbformat_minor": 2
}
