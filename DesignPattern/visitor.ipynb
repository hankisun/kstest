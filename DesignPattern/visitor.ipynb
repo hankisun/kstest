{
 "cells": [
  {
   "cell_type": "code",
   "execution_count": 2,
   "metadata": {},
   "outputs": [
    {
     "name": "stdout",
     "output_type": "stream",
     "text": [
      "operation a\n",
      "operation b\n",
      "operation b\n"
     ]
    }
   ],
   "source": [
    "# https://python101.tistory.com/entry/%EB%94%94%EC%9E%90%EC%9D%B8-%ED%8C%A8%ED%84%B4-%EB%B9%84%EC%A7%80%ED%84%B0-%ED%8C%A8%ED%84%B4-Visitor-Pattern-python-%EC%98%88%EC%A0%9C-%EC%BD%94%EB%93%9C\n",
    "\n",
    "# 객체의 구조와 작업을 분리하여, 새로운 작업을 추가하거나 객체 구조를 수정하지 않고도 작업을 수행 가능\n",
    "\n",
    "class Element:\n",
    "    def accept(self, visitor):\n",
    "        pass\n",
    "\n",
    "class ConcreteElementA(Element):\n",
    "    def accept(self, visitor):\n",
    "        visitor.visit_concrete_element_a(self)\n",
    "\n",
    "    def operation_a(self):\n",
    "        print(\"operation a\")\n",
    "\n",
    "class ConcreteElementB(Element):\n",
    "    def accept(self, visitor):\n",
    "        visitor.visit_concrete_element_b(self)\n",
    "\n",
    "    def operation_b(self):\n",
    "        print(\"operation b\")\n",
    "\n",
    "class Visitor:\n",
    "    def visit_concrete_element_a(self, element):\n",
    "        pass\n",
    "\n",
    "    def visit_concrete_element_b(self, element):\n",
    "        pass\n",
    "\n",
    "class ConcreteVisitor1(Visitor):\n",
    "    def visit_concrete_element_a(self, element):\n",
    "        element.operation_a()\n",
    "\n",
    "    def visit_concrete_element_b(self, element):\n",
    "        element.operation_b()\n",
    "\n",
    "class ConcreteVisitor2(Visitor):\n",
    "    def visit_concrete_element_a(self, element):\n",
    "        pass\n",
    "\n",
    "    def visit_concrete_element_b(self, element):\n",
    "        element.operation_b()\n",
    "\n",
    "def main():\n",
    "    elements = [ConcreteElementA(), ConcreteElementB()]\n",
    "    visitor1 = ConcreteVisitor1()\n",
    "    visitor2 = ConcreteVisitor2()\n",
    "\n",
    "    for element in elements:\n",
    "        element.accept(visitor1)\n",
    "        element.accept(visitor2)\n",
    "\n",
    "if __name__ == '__main__':\n",
    "    main()"
   ]
  }
 ],
 "metadata": {
  "kernelspec": {
   "display_name": "Python 3",
   "language": "python",
   "name": "python3"
  },
  "language_info": {
   "codemirror_mode": {
    "name": "ipython",
    "version": 3
   },
   "file_extension": ".py",
   "mimetype": "text/x-python",
   "name": "python",
   "nbconvert_exporter": "python",
   "pygments_lexer": "ipython3",
   "version": "3.11.3"
  }
 },
 "nbformat": 4,
 "nbformat_minor": 2
}
