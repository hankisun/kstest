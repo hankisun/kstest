{
 "cells": [
  {
   "cell_type": "code",
   "execution_count": 2,
   "metadata": {},
   "outputs": [
    {
     "name": "stdout",
     "output_type": "stream",
     "text": [
      "encrypted\n",
      "zipped\n",
      "write aaa\n"
     ]
    }
   ],
   "source": [
    "def encrypted(func):\n",
    "    def wrapper(*args, **kwargs):\n",
    "        print('encrypted')\n",
    "        func(*args, **kwargs)\n",
    "    \n",
    "    return wrapper\n",
    "\n",
    "def zipped(func):\n",
    "    def wrapper(*args, **kwargs):\n",
    "        print('zipped')\n",
    "        func(*args, **kwargs)\n",
    "        \n",
    "    return wrapper\n",
    "\n",
    "@encrypted\n",
    "@zipped\n",
    "def file_out(data):\n",
    "    print(f'write {data}')\n",
    "\n",
    "file_out('aaa')"
   ]
  },
  {
   "cell_type": "code",
   "execution_count": 3,
   "metadata": {},
   "outputs": [
    {
     "name": "stdout",
     "output_type": "stream",
     "text": [
      "Elapsed time: 0.04388117790222168\n",
      "499999500000\n"
     ]
    }
   ],
   "source": [
    "# https://python101.tistory.com/entry/%EB%94%94%EC%9E%90%EC%9D%B8-%ED%8C%A8%ED%84%B4-%EB%8D%B0%EC%BD%94%EB%A0%88%EC%9D%B4%ED%84%B0-%ED%8C%A8%ED%84%B4-Decorator-Pattern-python-%EC%98%88%EC%A0%9C-%EC%BD%94%EB%93%9C\n",
    "\n",
    "import time\n",
    "\n",
    "def time_it(func):\n",
    "    def wrapper(*args, **kwargs):\n",
    "        start = time.time()\n",
    "        result = func(*args, **kwargs)\n",
    "        end = time.time()\n",
    "        print(f\"Elapsed time: {end - start}\")\n",
    "        return result\n",
    "    return wrapper\n",
    "\n",
    "@time_it\n",
    "def my_function(n):\n",
    "    return sum(range(n))\n",
    "\n",
    "result = my_function(1000000)\n",
    "print(result)"
   ]
  }
 ],
 "metadata": {
  "kernelspec": {
   "display_name": "Python 3",
   "language": "python",
   "name": "python3"
  },
  "language_info": {
   "codemirror_mode": {
    "name": "ipython",
    "version": 3
   },
   "file_extension": ".py",
   "mimetype": "text/x-python",
   "name": "python",
   "nbconvert_exporter": "python",
   "pygments_lexer": "ipython3",
   "version": "3.11.3"
  }
 },
 "nbformat": 4,
 "nbformat_minor": 2
}
