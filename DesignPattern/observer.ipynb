{
 "cells": [
  {
   "cell_type": "code",
   "execution_count": 20,
   "metadata": {},
   "outputs": [
    {
     "name": "stdout",
     "output_type": "stream",
     "text": [
      "MessageNoti - send message to aaa\n",
      "EmailNoti - send email to aaa\n"
     ]
    }
   ],
   "source": [
    "class Observer():\n",
    "    def __init__(self):\n",
    "        pass\n",
    "    def OnAbnormalStatus():\n",
    "        raise NotImplementedError\n",
    "\n",
    "class EmailNoti(Observer):\n",
    "    def __init__(self, receiver):\n",
    "        self.receiver = receiver\n",
    "    def OnAbnormalStatus(self):\n",
    "        print(f'EmailNoti - send email to {self.receiver}')\n",
    "\n",
    "class MessageNoti(Observer):\n",
    "    def __init__(self, receiver):\n",
    "        self.receiver = receiver\n",
    "    def OnAbnormalStatus(self):\n",
    "        print(f'MessageNoti - send message to {self.receiver}')\n",
    "\n",
    "class StatusSubject():\n",
    "    def __init__(self):\n",
    "        self.observers = list()\n",
    "    def add(self, observer: Observer):\n",
    "        self.observers.append(observer)\n",
    "    def remove(self, observer: Observer):\n",
    "        self.observers.remove(observer)\n",
    "    def notify(self):\n",
    "        for observer in self.observers:\n",
    "            observer.OnAbnormalStatus()\n",
    "\n",
    "class StatusChecker(StatusSubject):\n",
    "    def __init__(self):\n",
    "        super().__init__()\n",
    "    def checker(self):\n",
    "        super().notify()\n",
    "\n",
    "checker = StatusChecker()\n",
    "checker.add(MessageNoti('aaa'))\n",
    "checker.add(EmailNoti('aaa'))\n",
    "checker.checker()\n",
    "\n"
   ]
  },
  {
   "cell_type": "code",
   "execution_count": 16,
   "metadata": {},
   "outputs": [],
   "source": [
    "# https://python101.tistory.com/entry/%EB%94%94%EC%9E%90%EC%9D%B8-%ED%8C%A8%ED%84%B4-%EC%98%B5%EC%A0%80%EB%B2%84-%ED%8C%A8%ED%84%B4-Observer-Pattern-python-%EC%98%88%EC%A0%9C-%EC%BD%94%EB%93%9C\n",
    "\n",
    "class Subject:\n",
    "    def __init__(self):\n",
    "        self._observers = []\n",
    "\n",
    "    def attach(self, observer):\n",
    "        if observer not in self._observers:\n",
    "            self._observers.append(observer)\n",
    "\n",
    "    def detach(self, observer):\n",
    "        try:\n",
    "            self._observers.remove(observer)\n",
    "        except ValueError:\n",
    "            pass\n",
    "\n",
    "    def notify(self, message):\n",
    "        for observer in self._observers:\n",
    "            observer.update(message)\n",
    "\n",
    "class Observer:\n",
    "    def update(self, message):\n",
    "        raise NotImplementedError()\n",
    "\n",
    "class ConcreteSubject(Subject):\n",
    "    def __init__(self):\n",
    "        super().__init__()\n",
    "        self._state = None\n",
    "\n",
    "    @property\n",
    "    def state(self):\n",
    "        return self._state\n",
    "\n",
    "    @state.setter\n",
    "    def state(self, value):\n",
    "        self._state = value\n",
    "        self.notify(value)\n",
    "\n",
    "class ConcreteObserver(Observer):\n",
    "    def __init__(self, name):\n",
    "        self._name = name\n",
    "\n",
    "    def update(self, message):\n",
    "        print(f\"{self._name} received message: {message}\")\n",
    "\n",
    "if __name__ == \"__main__\":\n",
    "    subject = ConcreteSubject()\n",
    "    observer1 = ConcreteObserver(\"Observer 1\")\n",
    "    observer2 = ConcreteObserver(\"Observer 2\")\n",
    "    subject.attach(observer1)\n",
    "    subject.attach(observer2)\n",
    "    subject.state = \"new state\""
   ]
  },
  {
   "cell_type": "code",
   "execution_count": 21,
   "metadata": {},
   "outputs": [
    {
     "data": {
      "text/plain": [
       "['OnAbnormalStatus',\n",
       " '__class__',\n",
       " '__delattr__',\n",
       " '__dict__',\n",
       " '__dir__',\n",
       " '__doc__',\n",
       " '__eq__',\n",
       " '__format__',\n",
       " '__ge__',\n",
       " '__getattribute__',\n",
       " '__getstate__',\n",
       " '__gt__',\n",
       " '__hash__',\n",
       " '__init__',\n",
       " '__init_subclass__',\n",
       " '__le__',\n",
       " '__lt__',\n",
       " '__module__',\n",
       " '__ne__',\n",
       " '__new__',\n",
       " '__reduce__',\n",
       " '__reduce_ex__',\n",
       " '__repr__',\n",
       " '__setattr__',\n",
       " '__sizeof__',\n",
       " '__str__',\n",
       " '__subclasshook__',\n",
       " '__weakref__',\n",
       " 'receiver']"
      ]
     },
     "execution_count": 21,
     "metadata": {},
     "output_type": "execute_result"
    }
   ],
   "source": [
    "m = MessageNoti('a1')\n",
    "dir(m)"
   ]
  }
 ],
 "metadata": {
  "kernelspec": {
   "display_name": "Python 3",
   "language": "python",
   "name": "python3"
  },
  "language_info": {
   "codemirror_mode": {
    "name": "ipython",
    "version": 3
   },
   "file_extension": ".py",
   "mimetype": "text/x-python",
   "name": "python",
   "nbconvert_exporter": "python",
   "pygments_lexer": "ipython3",
   "version": "3.11.3"
  }
 },
 "nbformat": 4,
 "nbformat_minor": 2
}
