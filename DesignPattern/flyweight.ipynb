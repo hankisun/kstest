{
 "cells": [
  {
   "cell_type": "code",
   "execution_count": 1,
   "metadata": {},
   "outputs": [
    {
     "name": "stdout",
     "output_type": "stream",
     "text": [
      "Creating new instance for A\n",
      "Character at (0, 0)\n",
      "Creating new instance for B\n",
      "Character at (0, 1)\n",
      "Creating new instance for C\n",
      "Character at (1, 0)\n",
      "Creating new instance for D\n",
      "Character at (1, 1)\n",
      "Character at (2, 0)\n",
      "Character at (2, 1)\n"
     ]
    }
   ],
   "source": [
    "\n",
    "# 객체를 공유하여 메모리 사용량을 줄임\n",
    "# 객체의 상태를 변경하면 다른 객체들에게 영향을 미칩니다. 따라서, 공유 객체의 상태를 변경하지 않아야 함\n",
    "\n",
    "class Flyweight:\n",
    "    _instances = {}  # 공유 가능한 객체는 클래스 변수로 선언\n",
    "\n",
    "    def __new__(cls, char):\n",
    "        if char not in cls._instances:\n",
    "            print(f\"Creating new instance for {char}\")\n",
    "            cls._instances[char] = super().__new__(cls)\n",
    "        return cls._instances[char]\n",
    "\n",
    "    def set_position(self, row, column):\n",
    "        self.row = row\n",
    "        self.column = column\n",
    "\n",
    "    def display(self):\n",
    "        print(f\"Character at ({self.row}, {self.column})\")\n",
    "\n",
    "characters = ['A', 'B', 'C', 'D', 'A', 'B']\n",
    "positions = [(0, 0), (0, 1), (1, 0), (1, 1), (2, 0), (2, 1)]\n",
    "\n",
    "for char, pos in zip(characters, positions):\n",
    "    flyweight = Flyweight(char)\n",
    "    flyweight.set_position(*pos)\n",
    "    flyweight.display()"
   ]
  },
  {
   "cell_type": "code",
   "execution_count": 2,
   "metadata": {},
   "outputs": [
    {
     "name": "stdout",
     "output_type": "stream",
     "text": [
      "Creating new instance for A\n"
     ]
    },
    {
     "ename": "TypeError",
     "evalue": "__init__() should return None, not 'Flyweight'",
     "output_type": "error",
     "traceback": [
      "\u001b[1;31m---------------------------------------------------------------------------\u001b[0m",
      "\u001b[1;31mTypeError\u001b[0m                                 Traceback (most recent call last)",
      "Cell \u001b[1;32mIn[2], line 24\u001b[0m\n\u001b[0;32m     21\u001b[0m positions \u001b[38;5;241m=\u001b[39m [(\u001b[38;5;241m0\u001b[39m, \u001b[38;5;241m0\u001b[39m), (\u001b[38;5;241m0\u001b[39m, \u001b[38;5;241m1\u001b[39m), (\u001b[38;5;241m1\u001b[39m, \u001b[38;5;241m0\u001b[39m), (\u001b[38;5;241m1\u001b[39m, \u001b[38;5;241m1\u001b[39m), (\u001b[38;5;241m2\u001b[39m, \u001b[38;5;241m0\u001b[39m), (\u001b[38;5;241m2\u001b[39m, \u001b[38;5;241m1\u001b[39m)]\n\u001b[0;32m     23\u001b[0m \u001b[38;5;28;01mfor\u001b[39;00m char, pos \u001b[38;5;129;01min\u001b[39;00m \u001b[38;5;28mzip\u001b[39m(characters, positions):\n\u001b[1;32m---> 24\u001b[0m     flyweight \u001b[38;5;241m=\u001b[39m \u001b[43mFlyweight\u001b[49m\u001b[43m(\u001b[49m\u001b[43mchar\u001b[49m\u001b[43m)\u001b[49m\n\u001b[0;32m     25\u001b[0m     flyweight\u001b[38;5;241m.\u001b[39mset_position(\u001b[38;5;241m*\u001b[39mpos)\n\u001b[0;32m     26\u001b[0m     flyweight\u001b[38;5;241m.\u001b[39mdisplay()\n",
      "\u001b[1;31mTypeError\u001b[0m: __init__() should return None, not 'Flyweight'"
     ]
    }
   ],
   "source": [
    "\n",
    "# 객체를 공유하여 메모리 사용량을 줄임\n",
    "# 객체의 상태를 변경하면 다른 객체들에게 영향을 미칩니다. 따라서, 공유 객체의 상태를 변경하지 않아야 함\n",
    "\n",
    "class Flyweight:\n",
    "    _instances = {}  # 공유 가능한 객체는 클래스 변수로 선언\n",
    "\n",
    "    def __init__(self, char):\n",
    "        if char not in Flyweight._instances:\n",
    "            print(f\"Creating new instance for {char}\")\n",
    "            Flyweight._instances[char] = self\n",
    "        return Flyweight._instances[char]\n",
    "\n",
    "    def set_position(self, row, column):\n",
    "        self.row = row\n",
    "        self.column = column\n",
    "\n",
    "    def display(self):\n",
    "        print(f\"Character at ({self.row}, {self.column})\")\n",
    "\n",
    "characters = ['A', 'B', 'C', 'D', 'A', 'B']\n",
    "positions = [(0, 0), (0, 1), (1, 0), (1, 1), (2, 0), (2, 1)]\n",
    "\n",
    "for char, pos in zip(characters, positions):\n",
    "    flyweight = Flyweight(char)\n",
    "    flyweight.set_position(*pos)\n",
    "    flyweight.display()"
   ]
  },
  {
   "cell_type": "code",
   "execution_count": null,
   "metadata": {},
   "outputs": [],
   "source": []
  }
 ],
 "metadata": {
  "kernelspec": {
   "display_name": "Python 3",
   "language": "python",
   "name": "python3"
  },
  "language_info": {
   "codemirror_mode": {
    "name": "ipython",
    "version": 3
   },
   "file_extension": ".py",
   "mimetype": "text/x-python",
   "name": "python",
   "nbconvert_exporter": "python",
   "pygments_lexer": "ipython3",
   "version": "3.11.3"
  }
 },
 "nbformat": 4,
 "nbformat_minor": 2
}
