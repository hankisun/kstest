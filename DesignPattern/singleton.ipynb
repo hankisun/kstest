{
 "cells": [
  {
   "cell_type": "code",
   "execution_count": 15,
   "metadata": {},
   "outputs": [
    {
     "data": {
      "text/plain": [
       "True"
      ]
     },
     "execution_count": 15,
     "metadata": {},
     "output_type": "execute_result"
    }
   ],
   "source": [
    "class Singleton:\n",
    "    __instance = None\n",
    "\n",
    "    @classmethod\n",
    "    def getInstance(cls):\n",
    "        if cls.__instance:\n",
    "            return cls.__instance\n",
    "        return Singleton()\n",
    "\n",
    "    def __init__(self):\n",
    "        if Singleton.__instance:\n",
    "            raise Exception('already exists! please use getInstance()')\n",
    "        Singleton.__instance = self\n",
    "\n",
    "# s = Singleton()\n",
    "s1 = Singleton()\n",
    "s2 = Singleton.getInstance()\n",
    "s3 = Singleton.getInstance()\n",
    "s2 == s3\n"
   ]
  },
  {
   "cell_type": "code",
   "execution_count": 16,
   "metadata": {},
   "outputs": [
    {
     "name": "stdout",
     "output_type": "stream",
     "text": [
      "<__main__.Singleton object at 0x000001B5D2256B50>\n",
      "<__main__.Singleton object at 0x000001B5D2256B50>\n",
      "True\n"
     ]
    }
   ],
   "source": [
    "# https://python101.tistory.com/entry/%EB%94%94%EC%9E%90%EC%9D%B8-%ED%8C%A8%ED%84%B4-%EC%8B%B1%EA%B8%80%ED%84%B4-%ED%8C%A8%ED%84%B4-Singleton-Pattern-python-%EC%98%88%EC%A0%9C-%EC%BD%94%EB%93%9C\n",
    "\n",
    "class Singleton:\n",
    "    __instance = None  # 클래스 내부에 유일한 인스턴스를 저장할 클래스 변수\n",
    "\n",
    "    @staticmethod\n",
    "    def getInstance():\n",
    "        \"\"\" 유일한 인스턴스를 반환하는 정적 메서드 \"\"\"\n",
    "        if Singleton.__instance == None:\n",
    "            Singleton()\n",
    "        return Singleton.__instance\n",
    "\n",
    "    def __init__(self):\n",
    "        \"\"\" 생성자 메서드를 private로 만들어 객체 생성을 제한 \"\"\"\n",
    "        if Singleton.__instance != None:\n",
    "            raise Exception(\"이 클래스는 싱글턴 패턴으로 구현되었습니다. getInstance() 메서드를 사용하세요.\")\n",
    "        else:\n",
    "            Singleton.__instance = self\n",
    "\n",
    "s1 = Singleton.getInstance() # 인스턴스 생성\n",
    "s2 = Singleton.getInstance() # 기존 인스턴스 반환\n",
    "\n",
    "print(s1) # <__main__.Singleton object at 0x7f3ecb7f7520>\n",
    "print(s2) # <__main__.Singleton object at 0x7f3ecb7f7520>\n",
    "print(s1 == s2) # True"
   ]
  }
 ],
 "metadata": {
  "kernelspec": {
   "display_name": "Python 3",
   "language": "python",
   "name": "python3"
  },
  "language_info": {
   "codemirror_mode": {
    "name": "ipython",
    "version": 3
   },
   "file_extension": ".py",
   "mimetype": "text/x-python",
   "name": "python",
   "nbconvert_exporter": "python",
   "pygments_lexer": "ipython3",
   "version": "3.11.3"
  }
 },
 "nbformat": 4,
 "nbformat_minor": 2
}
